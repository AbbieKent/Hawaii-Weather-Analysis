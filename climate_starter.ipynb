{
 "cells": [
  {
   "cell_type": "code",
   "execution_count": 84,
   "metadata": {},
   "outputs": [],
   "source": [
    "%matplotlib inline\n",
    "from matplotlib import style\n",
    "style.use('fivethirtyeight')\n",
    "import matplotlib.pyplot as plt"
   ]
  },
  {
   "cell_type": "code",
   "execution_count": 85,
   "metadata": {},
   "outputs": [],
   "source": [
    "import numpy as np\n",
    "import pandas as pd"
   ]
  },
  {
   "cell_type": "code",
   "execution_count": 86,
   "metadata": {},
   "outputs": [],
   "source": [
    "import datetime as dt"
   ]
  },
  {
   "cell_type": "markdown",
   "metadata": {},
   "source": [
    "# Reflect Tables into SQLAlchemy ORM"
   ]
  },
  {
   "cell_type": "code",
   "execution_count": 87,
   "metadata": {},
   "outputs": [],
   "source": [
    "# Python SQL toolkit and Object Relational Mapper\n",
    "import sqlalchemy\n",
    "from sqlalchemy.ext.automap import automap_base\n",
    "from sqlalchemy.orm import Session\n",
    "from sqlalchemy import create_engine, func"
   ]
  },
  {
   "cell_type": "code",
   "execution_count": 88,
   "metadata": {},
   "outputs": [],
   "source": [
    "engine = create_engine(\"sqlite:///Resources/hawaii.sqlite\")"
   ]
  },
  {
   "cell_type": "code",
   "execution_count": 89,
   "metadata": {},
   "outputs": [],
   "source": [
    "# reflect an existing database into a new model\n",
    "base=automap_base()\n",
    "# reflect the tables\n",
    "base.prepare(engine, reflect=True)"
   ]
  },
  {
   "cell_type": "code",
   "execution_count": 90,
   "metadata": {},
   "outputs": [
    {
     "data": {
      "text/plain": [
       "['measurement', 'station']"
      ]
     },
     "execution_count": 90,
     "metadata": {},
     "output_type": "execute_result"
    }
   ],
   "source": [
    "# We can view all of the classes that automap found\n",
    "base.classes.keys()"
   ]
  },
  {
   "cell_type": "code",
   "execution_count": null,
   "metadata": {},
   "outputs": [],
   "source": []
  },
  {
   "cell_type": "code",
   "execution_count": null,
   "metadata": {},
   "outputs": [],
   "source": []
  },
  {
   "cell_type": "code",
   "execution_count": 91,
   "metadata": {},
   "outputs": [],
   "source": [
    "# Save references to each table\n",
    "measurement=base.classes.measurement\n",
    "station=base.classes.station"
   ]
  },
  {
   "cell_type": "code",
   "execution_count": 92,
   "metadata": {},
   "outputs": [
    {
     "data": {
      "text/plain": [
       "sqlalchemy.ext.automap.measurement"
      ]
     },
     "execution_count": 92,
     "metadata": {},
     "output_type": "execute_result"
    }
   ],
   "source": [
    "measurement"
   ]
  },
  {
   "cell_type": "code",
   "execution_count": 93,
   "metadata": {},
   "outputs": [],
   "source": [
    "# Create our session (link) from Python to the DB\n",
    "session=Session(engine)"
   ]
  },
  {
   "cell_type": "markdown",
   "metadata": {},
   "source": [
    "# Exploratory Climate Analysis"
   ]
  },
  {
   "cell_type": "code",
   "execution_count": 94,
   "metadata": {},
   "outputs": [],
   "source": [
    "# Design a query to retrieve the last 12 months of precipitation data and plot the results\n",
    "\n",
    "\n",
    "# Calculate the date 1 year ago from the last data point in the database\n",
    "\n",
    "# Perform a query to retrieve the data and precipitation scores\n",
    "\n",
    "# Save the query results as a Pandas DataFrame and set the index to the date column\n",
    "\n",
    "# Sort the dataframe by date\n",
    "\n",
    "# Use Pandas Plotting with Matplotlib to plot the data\n"
   ]
  },
  {
   "cell_type": "code",
   "execution_count": null,
   "metadata": {},
   "outputs": [],
   "source": []
  },
  {
   "cell_type": "code",
   "execution_count": 96,
   "metadata": {},
   "outputs": [
    {
     "data": {
      "text/plain": [
       "<sqlalchemy.orm.query.Query at 0x1e0f2f14520>"
      ]
     },
     "execution_count": 96,
     "metadata": {},
     "output_type": "execute_result"
    }
   ],
   "source": [
    "# Design a query to retrieve the last 12 months of precipitation data and plot the results\n",
    "last_year=session.query(measurement.date).order_by(measurement.date.desc()).first()\n",
    "for x in last_year:\n",
    "    split_date=x.split('-')\n",
    "split_date\n",
    "last_year=int(split_date[0])\n",
    "last_month=int(split_date[1])\n",
    "last_day=int(split_date[2])\n",
    "\n",
    "query_date=dt.date(last_year, last_month, last_day)-dt.timedelta(days=365)\n",
    "\n",
    "last_year_preci=session.query(measurement.date, measurement.prcp).filter(measurement.date>=query_date)\n",
    "last_year_preci"
   ]
  },
  {
   "cell_type": "code",
   "execution_count": 113,
   "metadata": {},
   "outputs": [],
   "source": [
    "# Calculate the date 1 year ago from the last data point in the database\n",
    "query_date=dt.date(last_year, last_month, last_day)-dt.timedelta(days=365)"
   ]
  },
  {
   "cell_type": "code",
   "execution_count": 114,
   "metadata": {},
   "outputs": [
    {
     "data": {
      "text/plain": [
       "{'session': <sqlalchemy.orm.session.Session at 0x1e0f2dd44c0>,\n",
       " '_polymorphic_adapters': {},\n",
       " '_entities': [<sqlalchemy.orm.query._ColumnEntity at 0x1e0f296fc40>,\n",
       "  <sqlalchemy.orm.query._ColumnEntity at 0x1e0f296f820>],\n",
       " '_primary_entity': None,\n",
       " '_has_mapper_entities': False,\n",
       " '_mapper_adapter_map': {<Mapper at 0x1e0f2dd4b50; measurement>: (<Mapper at 0x1e0f2dd4b50; measurement>,\n",
       "   None)},\n",
       " '_criterion': <sqlalchemy.sql.elements.BinaryExpression object at 0x000001E0F296FD00>}"
      ]
     },
     "execution_count": 114,
     "metadata": {},
     "output_type": "execute_result"
    }
   ],
   "source": [
    "# Perform a query to retrieve the data and precipitation scores\n",
    "last_preci=session.query(measurement.date, measurement.prcp).filter(measurement.date>=query_date)\n",
    "conn = engine.connect()\n",
    "last_preci.__dict__"
   ]
  },
  {
   "cell_type": "code",
   "execution_count": 120,
   "metadata": {},
   "outputs": [
    {
     "data": {
      "text/html": [
       "<div>\n",
       "<style scoped>\n",
       "    .dataframe tbody tr th:only-of-type {\n",
       "        vertical-align: middle;\n",
       "    }\n",
       "\n",
       "    .dataframe tbody tr th {\n",
       "        vertical-align: top;\n",
       "    }\n",
       "\n",
       "    .dataframe thead th {\n",
       "        text-align: right;\n",
       "    }\n",
       "</style>\n",
       "<table border=\"1\" class=\"dataframe\">\n",
       "  <thead>\n",
       "    <tr style=\"text-align: right;\">\n",
       "      <th></th>\n",
       "      <th>date</th>\n",
       "      <th>precipitation</th>\n",
       "    </tr>\n",
       "  </thead>\n",
       "  <tbody>\n",
       "    <tr>\n",
       "      <th>0</th>\n",
       "      <td>2016-08-23</td>\n",
       "      <td>0.00</td>\n",
       "    </tr>\n",
       "    <tr>\n",
       "      <th>1</th>\n",
       "      <td>2016-08-24</td>\n",
       "      <td>0.08</td>\n",
       "    </tr>\n",
       "    <tr>\n",
       "      <th>2</th>\n",
       "      <td>2016-08-25</td>\n",
       "      <td>0.08</td>\n",
       "    </tr>\n",
       "    <tr>\n",
       "      <th>3</th>\n",
       "      <td>2016-08-26</td>\n",
       "      <td>0.00</td>\n",
       "    </tr>\n",
       "    <tr>\n",
       "      <th>4</th>\n",
       "      <td>2016-08-27</td>\n",
       "      <td>0.00</td>\n",
       "    </tr>\n",
       "    <tr>\n",
       "      <th>...</th>\n",
       "      <td>...</td>\n",
       "      <td>...</td>\n",
       "    </tr>\n",
       "    <tr>\n",
       "      <th>2223</th>\n",
       "      <td>2017-08-17</td>\n",
       "      <td>0.13</td>\n",
       "    </tr>\n",
       "    <tr>\n",
       "      <th>2225</th>\n",
       "      <td>2017-08-19</td>\n",
       "      <td>0.09</td>\n",
       "    </tr>\n",
       "    <tr>\n",
       "      <th>2227</th>\n",
       "      <td>2017-08-21</td>\n",
       "      <td>0.56</td>\n",
       "    </tr>\n",
       "    <tr>\n",
       "      <th>2228</th>\n",
       "      <td>2017-08-22</td>\n",
       "      <td>0.50</td>\n",
       "    </tr>\n",
       "    <tr>\n",
       "      <th>2229</th>\n",
       "      <td>2017-08-23</td>\n",
       "      <td>0.45</td>\n",
       "    </tr>\n",
       "  </tbody>\n",
       "</table>\n",
       "<p>2021 rows × 2 columns</p>\n",
       "</div>"
      ],
      "text/plain": [
       "            date  precipitation\n",
       "0     2016-08-23           0.00\n",
       "1     2016-08-24           0.08\n",
       "2     2016-08-25           0.08\n",
       "3     2016-08-26           0.00\n",
       "4     2016-08-27           0.00\n",
       "...          ...            ...\n",
       "2223  2017-08-17           0.13\n",
       "2225  2017-08-19           0.09\n",
       "2227  2017-08-21           0.56\n",
       "2228  2017-08-22           0.50\n",
       "2229  2017-08-23           0.45\n",
       "\n",
       "[2021 rows x 2 columns]"
      ]
     },
     "execution_count": 120,
     "metadata": {},
     "output_type": "execute_result"
    }
   ],
   "source": [
    "# Save the query results as a Pandas DataFrame and set the index to the date column\n",
    "data = pd.DataFrame(last_preci, columns=['date','precipitation'])\n",
    "data.dropna()"
   ]
  },
  {
   "cell_type": "code",
   "execution_count": 128,
   "metadata": {},
   "outputs": [
    {
     "data": {
      "text/plain": [
       "pandas.core.series.Series"
      ]
     },
     "execution_count": 128,
     "metadata": {},
     "output_type": "execute_result"
    }
   ],
   "source": [
    "# Sort the dataframe by date, already sorted by date \n",
    "type(data['precipitation'])"
   ]
  },
  {
   "cell_type": "code",
   "execution_count": 131,
   "metadata": {},
   "outputs": [
    {
     "data": {
      "text/plain": [
       "<matplotlib.axes._subplots.AxesSubplot at 0x1e0f48f9af0>"
      ]
     },
     "execution_count": 131,
     "metadata": {},
     "output_type": "execute_result"
    },
    {
     "data": {
      "image/png": "[encoded data removed]",
      "text/plain": [
       "<Figure size 432x288 with 1 Axes>"
      ]
     },
     "metadata": {},
     "output_type": "display_data"
    }
   ],
   "source": [
    "# Use Pandas Plotting with Matplotlib to plot the data\n",
    "data.plot()"
   ]
  },
  {
   "cell_type": "code",
   "execution_count": null,
   "metadata": {},
   "outputs": [],
   "source": [
    "# Use Pandas to calcualte the summary statistics for the precipitation data\n"
   ]
  },
  {
   "cell_type": "code",
   "execution_count": 150,
   "metadata": {},
   "outputs": [
    {
     "data": {
      "text/plain": [
       "9"
      ]
     },
     "execution_count": 150,
     "metadata": {},
     "output_type": "execute_result"
    }
   ],
   "source": [
    "# Design a query to show how many stations are available in this dataset?\n",
    "total_stations=session.query(station).count()\n",
    "total_stations"
   ]
  },
  {
   "cell_type": "code",
   "execution_count": 168,
   "metadata": {},
   "outputs": [
    {
     "data": {
      "text/plain": [
       "[('USC00519281', 2772),\n",
       " ('USC00519397', 2724),\n",
       " ('USC00513117', 2709),\n",
       " ('USC00519523', 2669),\n",
       " ('USC00516128', 2612),\n",
       " ('USC00514830', 2202),\n",
       " ('USC00511918', 1979),\n",
       " ('USC00517948', 1372),\n",
       " ('USC00518838', 511)]"
      ]
     },
     "execution_count": 168,
     "metadata": {},
     "output_type": "execute_result"
    }
   ],
   "source": [
    "# What are the most active stations? (i.e. what stations have the most rows)?\n",
    "\n",
    "active_station=session.query(measurement.station, func.count(measurement.station)).group_by(measurement.station).\\\n",
    "order_by(func.count(measurement.station).desc()).all()\n",
    "# List the stations and the counts in descending order\n",
    "active_station"
   ]
  },
  {
   "cell_type": "code",
   "execution_count": 203,
   "metadata": {},
   "outputs": [
    {
     "data": {
      "text/plain": [
       "('USC00519397', 53.0, 87.0, 73.09795396419437)"
      ]
     },
     "execution_count": 203,
     "metadata": {},
     "output_type": "execute_result"
    }
   ],
   "source": [
    "low_high_avg_temp=session.query(measurement.station, func.min(measurement.tobs),func.max(measurement.tobs), func.avg(measurement.tobs)). \\\n",
    "order_by(func.count(measurement.station).desc()).first()\n",
    "low_high_avg_temp"
   ]
  },
  {
   "cell_type": "code",
   "execution_count": 204,
   "metadata": {},
   "outputs": [],
   "source": [
    "# ignore this code\n",
    "#Using the station id from the previous query, calculate the lowest temperature recorded, \n",
    "# highest temperature recorded, and average temperature of the most active station?\n",
    "# lowest_temp=session.query(measurement.station, measurement.tobs). \\\n",
    "#                          order_by(func.count(measurement.station).desc()).first()\n",
    "# for x in lowest_temp:\n",
    "#     print(x)\n",
    "# # highest_temp=session.query(measurement.station, func.(measurement.tobs))\n",
    "# for x in highest_temp:\n",
    "#     print(x)\n",
    "# avg_temp=("
   ]
  },
  {
   "cell_type": "code",
   "execution_count": 221,
   "metadata": {},
   "outputs": [
    {
     "name": "stdout",
     "output_type": "stream",
     "text": [
      "('2016-08-23', 81.0)\n",
      "('2016-08-24', 79.0)\n",
      "('2016-08-25', 80.0)\n",
      "('2016-08-26', 79.0)\n",
      "('2016-08-27', 77.0)\n",
      "('2016-08-28', 78.0)\n",
      "('2016-08-29', 78.0)\n",
      "('2016-08-30', 79.0)\n",
      "('2016-08-31', 80.0)\n",
      "('2016-09-01', 81.0)\n",
      "('2016-09-02', 80.0)\n",
      "('2016-09-03', 79.0)\n",
      "('2016-09-04', 75.0)\n",
      "('2016-09-05', 79.0)\n",
      "('2016-09-06', 76.0)\n",
      "('2016-09-07', 76.0)\n",
      "('2016-09-08', 80.0)\n",
      "('2016-09-09', 79.0)\n",
      "('2016-09-10', 78.0)\n",
      "('2016-09-11', 76.0)\n",
      "('2016-09-12', 78.0)\n",
      "('2016-09-13', 78.0)\n",
      "('2016-09-14', 75.0)\n",
      "('2016-09-15', 79.0)\n",
      "('2016-09-16', 80.0)\n",
      "('2016-09-17', 79.0)\n",
      "('2016-09-18', 81.0)\n",
      "('2016-09-19', 77.0)\n",
      "('2016-09-20', 77.0)\n",
      "('2016-09-21', 78.0)\n",
      "('2016-09-22', 76.0)\n",
      "('2016-09-23', 82.0)\n",
      "('2016-09-24', 81.0)\n",
      "('2016-09-25', 78.0)\n",
      "('2016-09-26', 80.0)\n",
      "('2016-09-27', 80.0)\n",
      "('2016-09-28', 79.0)\n",
      "('2016-09-29', 80.0)\n",
      "('2016-09-30', 80.0)\n",
      "('2016-10-01', 80.0)\n",
      "('2016-10-02', 79.0)\n",
      "('2016-10-03', 79.0)\n",
      "('2016-10-04', 79.0)\n",
      "('2016-10-05', 80.0)\n",
      "('2016-10-06', 80.0)\n",
      "('2016-10-07', 79.0)\n",
      "('2016-10-08', 78.0)\n",
      "('2016-10-09', 76.0)\n",
      "('2016-10-10', 75.0)\n",
      "('2016-10-11', 80.0)\n",
      "('2016-10-12', 80.0)\n",
      "('2016-10-13', 79.0)\n",
      "('2016-10-14', 80.0)\n",
      "('2016-10-15', 79.0)\n",
      "('2016-10-16', 78.0)\n",
      "('2016-10-17', 78.0)\n",
      "('2016-10-18', 80.0)\n",
      "('2016-10-19', 81.0)\n",
      "('2016-10-20', 79.0)\n",
      "('2016-10-21', 77.0)\n",
      "('2016-10-22', 79.0)\n",
      "('2016-10-23', 78.0)\n",
      "('2016-10-24', 77.0)\n",
      "('2016-10-25', 77.0)\n",
      "('2016-10-26', 78.0)\n",
      "('2016-10-27', 77.0)\n",
      "('2016-10-28', 78.0)\n",
      "('2016-10-29', 77.0)\n",
      "('2016-10-30', 76.0)\n",
      "('2016-10-31', 77.0)\n",
      "('2016-11-01', 77.0)\n",
      "('2016-11-02', 77.0)\n",
      "('2016-11-03', 77.0)\n",
      "('2016-11-04', 77.0)\n",
      "('2016-11-05', 76.0)\n",
      "('2016-11-06', 75.0)\n",
      "('2016-11-07', 71.0)\n",
      "('2016-11-08', 71.0)\n",
      "('2016-11-09', 71.0)\n",
      "('2016-11-10', 71.0)\n",
      "('2016-11-11', 72.0)\n",
      "('2016-11-12', 71.0)\n",
      "('2016-11-13', 72.0)\n",
      "('2016-11-14', 77.0)\n",
      "('2016-11-15', 77.0)\n",
      "('2016-11-16', 77.0)\n",
      "('2016-11-17', 77.0)\n",
      "('2016-11-18', 77.0)\n",
      "('2016-11-19', 75.0)\n",
      "('2016-11-20', 76.0)\n",
      "('2016-11-21', 76.0)\n",
      "('2016-11-22', 75.0)\n",
      "('2016-11-23', 72.0)\n",
      "('2016-11-24', 74.0)\n",
      "('2016-11-25', 75.0)\n",
      "('2016-11-26', 73.0)\n",
      "('2016-11-27', 76.0)\n",
      "('2016-11-28', 75.0)\n",
      "('2016-11-29', 68.0)\n",
      "('2016-11-30', 75.0)\n",
      "('2016-12-01', 75.0)\n",
      "('2016-12-02', 72.0)\n",
      "('2016-12-03', 69.0)\n",
      "('2016-12-04', 71.0)\n",
      "('2016-12-05', 68.0)\n",
      "('2016-12-06', 67.0)\n",
      "('2016-12-07', 69.0)\n",
      "('2016-12-08', 73.0)\n",
      "('2016-12-09', 70.0)\n",
      "('2016-12-10', 70.0)\n",
      "('2016-12-11', 70.0)\n",
      "('2016-12-12', 66.0)\n",
      "('2016-12-13', 67.0)\n",
      "('2016-12-14', 70.0)\n",
      "('2016-12-15', 66.0)\n",
      "('2016-12-16', 62.0)\n",
      "('2016-12-17', 71.0)\n",
      "('2016-12-18', 73.0)\n",
      "('2016-12-19', 69.0)\n",
      "('2016-12-20', 77.0)\n",
      "('2016-12-21', 74.0)\n",
      "('2016-12-22', 71.0)\n",
      "('2016-12-23', 72.0)\n",
      "('2016-12-24', 74.0)\n",
      "('2016-12-25', 74.0)\n",
      "('2016-12-26', 74.0)\n",
      "('2016-12-27', 74.0)\n",
      "('2016-12-28', 71.0)\n",
      "('2016-12-29', 73.0)\n",
      "('2016-12-30', 69.0)\n",
      "('2016-12-31', 66.0)\n",
      "('2017-01-01', 62.0)\n",
      "('2017-01-02', 66.0)\n",
      "('2017-01-03', 63.0)\n",
      "('2017-01-04', 62.0)\n",
      "('2017-01-05', 63.0)\n",
      "('2017-01-06', 64.0)\n",
      "('2017-01-07', 66.0)\n",
      "('2017-01-08', 60.0)\n",
      "('2017-01-09', 64.0)\n",
      "('2017-01-10', 63.0)\n",
      "('2017-01-11', 78.0)\n",
      "('2017-01-12', 67.0)\n",
      "('2017-01-13', 67.0)\n",
      "('2017-01-14', 65.0)\n",
      "('2017-01-15', 66.0)\n",
      "('2017-01-16', 67.0)\n",
      "('2017-01-17', 66.0)\n",
      "('2017-01-18', 72.0)\n",
      "('2017-01-19', 73.0)\n",
      "('2017-01-20', 71.0)\n",
      "('2017-01-21', 72.0)\n",
      "('2017-01-22', 72.0)\n",
      "('2017-01-23', 72.0)\n",
      "('2017-01-24', 69.0)\n",
      "('2017-01-25', 72.0)\n",
      "('2017-01-26', 71.0)\n",
      "('2017-01-27', 65.0)\n",
      "('2017-01-28', 64.0)\n",
      "('2017-01-29', 67.0)\n",
      "('2017-01-30', 67.0)\n",
      "('2017-01-31', 68.0)\n",
      "('2017-02-01', 70.0)\n",
      "('2017-02-02', 61.0)\n",
      "('2017-02-03', 65.0)\n",
      "('2017-02-04', 72.0)\n",
      "('2017-02-05', 73.0)\n",
      "('2017-02-06', 76.0)\n",
      "('2017-02-07', 64.0)\n",
      "('2017-02-08', 62.0)\n",
      "('2017-02-09', 61.0)\n",
      "('2017-02-10', 71.0)\n",
      "('2017-02-11', 69.0)\n",
      "('2017-02-12', 68.0)\n",
      "('2017-02-13', 74.0)\n",
      "('2017-02-14', 75.0)\n",
      "('2017-02-15', 75.0)\n",
      "('2017-02-16', 71.0)\n",
      "('2017-02-17', 71.0)\n",
      "('2017-02-18', 68.0)\n",
      "('2017-02-19', 69.0)\n",
      "('2017-02-20', 71.0)\n",
      "('2017-02-21', 70.0)\n",
      "('2017-02-22', 72.0)\n",
      "('2017-02-23', 74.0)\n",
      "('2017-02-24', 70.0)\n",
      "('2017-02-25', 64.0)\n",
      "('2017-02-26', 65.0)\n",
      "('2017-02-27', 72.0)\n",
      "('2017-02-28', 74.0)\n",
      "('2017-03-01', 66.0)\n",
      "('2017-03-02', 73.0)\n",
      "('2017-03-03', 69.0)\n",
      "('2017-03-04', 74.0)\n",
      "('2017-03-05', 71.0)\n",
      "('2017-03-06', 69.0)\n",
      "('2017-03-07', 68.0)\n",
      "('2017-03-08', 71.0)\n",
      "('2017-03-09', 72.0)\n",
      "('2017-03-10', 68.0)\n",
      "('2017-03-11', 71.0)\n",
      "('2017-03-12', 74.0)\n",
      "('2017-03-13', 71.0)\n",
      "('2017-03-14', 71.0)\n",
      "('2017-03-15', 71.0)\n",
      "('2017-03-16', 70.0)\n",
      "('2017-03-17', 72.0)\n",
      "('2017-03-18', 69.0)\n",
      "('2017-03-19', 73.0)\n",
      "('2017-03-20', 75.0)\n",
      "('2017-03-21', 75.0)\n",
      "('2017-03-22', 74.0)\n",
      "('2017-03-23', 70.0)\n",
      "('2017-03-24', 73.0)\n",
      "('2017-03-25', 76.0)\n",
      "('2017-03-26', 76.0)\n",
      "('2017-03-27', 75.0)\n",
      "('2017-03-28', 77.0)\n",
      "('2017-03-29', 76.0)\n",
      "('2017-03-30', 77.0)\n",
      "('2017-03-31', 76.0)\n",
      "('2017-04-01', 76.0)\n",
      "('2017-04-02', 76.0)\n",
      "('2017-04-03', 77.0)\n",
      "('2017-04-04', 76.0)\n",
      "('2017-04-05', 78.0)\n",
      "('2017-04-06', 77.0)\n",
      "('2017-04-07', 77.0)\n",
      "('2017-04-08', 77.0)\n",
      "('2017-04-09', 72.0)\n",
      "('2017-04-10', 75.0)\n",
      "('2017-04-11', 79.0)\n",
      "('2017-04-12', 78.0)\n",
      "('2017-04-13', 77.0)\n",
      "('2017-04-14', 75.0)\n",
      "('2017-04-15', 73.0)\n",
      "('2017-04-16', 74.0)\n",
      "('2017-04-17', 74.0)\n",
      "('2017-04-18', 75.0)\n",
      "('2017-04-19', 74.0)\n",
      "('2017-04-20', 78.0)\n",
      "('2017-04-21', 73.0)\n",
      "('2017-04-22', 76.0)\n",
      "('2017-04-23', 77.0)\n",
      "('2017-04-24', 77.0)\n",
      "('2017-04-25', 77.0)\n",
      "('2017-04-26', 77.0)\n",
      "('2017-04-27', 78.0)\n",
      "('2017-04-28', 76.0)\n",
      "('2017-04-29', 72.0)\n",
      "('2017-04-30', 63.0)\n",
      "('2017-05-01', 75.0)\n",
      "('2017-05-02', 78.0)\n",
      "('2017-05-03', 78.0)\n",
      "('2017-05-04', 78.0)\n",
      "('2017-05-05', 79.0)\n",
      "('2017-05-06', 79.0)\n",
      "('2017-05-07', 79.0)\n",
      "('2017-05-08', 77.0)\n",
      "('2017-05-10', 78.0)\n",
      "('2017-05-11', 78.0)\n",
      "('2017-05-12', 79.0)\n",
      "('2017-05-13', 79.0)\n",
      "('2017-05-14', 77.0)\n",
      "('2017-05-15', 78.0)\n",
      "('2017-05-16', 78.0)\n",
      "('2017-05-17', 78.0)\n",
      "('2017-05-18', 73.0)\n",
      "('2017-05-19', 76.0)\n",
      "('2017-05-20', 78.0)\n",
      "('2017-05-21', 76.0)\n",
      "('2017-05-22', 77.0)\n",
      "('2017-05-23', 87.0)\n",
      "('2017-05-24', 77.0)\n",
      "('2017-05-25', 77.0)\n",
      "('2017-05-27', 74.0)\n",
      "('2017-05-28', 76.0)\n",
      "('2017-05-29', 75.0)\n",
      "('2017-05-30', 76.0)\n",
      "('2017-05-31', 79.0)\n",
      "('2017-06-01', 79.0)\n",
      "('2017-06-02', 79.0)\n",
      "('2017-06-03', 79.0)\n",
      "('2017-06-04', 79.0)\n",
      "('2017-06-05', 80.0)\n",
      "('2017-06-06', 79.0)\n",
      "('2017-06-07', 79.0)\n",
      "('2017-06-08', 80.0)\n",
      "('2017-06-09', 80.0)\n",
      "('2017-06-10', 77.0)\n",
      "('2017-06-11', 79.0)\n",
      "('2017-06-12', 83.0)\n",
      "('2017-06-13', 80.0)\n",
      "('2017-06-14', 80.0)\n",
      "('2017-06-15', 78.0)\n",
      "('2017-06-16', 79.0)\n",
      "('2017-06-17', 80.0)\n",
      "('2017-06-18', 77.0)\n",
      "('2017-06-19', 80.0)\n",
      "('2017-06-20', 78.0)\n",
      "('2017-06-21', 79.0)\n",
      "('2017-06-22', 80.0)\n",
      "('2017-06-23', 78.0)\n",
      "('2017-06-24', 80.0)\n",
      "('2017-06-25', 80.0)\n",
      "('2017-06-26', 81.0)\n",
      "('2017-06-27', 80.0)\n",
      "('2017-06-28', 79.0)\n",
      "('2017-06-29', 79.0)\n",
      "('2017-06-30', 75.0)\n",
      "('2017-07-01', 80.0)\n",
      "('2017-07-02', 80.0)\n",
      "('2017-07-03', 78.0)\n",
      "('2017-07-04', 80.0)\n",
      "('2017-07-05', 80.0)\n",
      "('2017-07-06', 81.0)\n",
      "('2017-07-07', 79.0)\n",
      "('2017-07-08', 80.0)\n",
      "('2017-07-09', 80.0)\n",
      "('2017-07-10', 80.0)\n",
      "('2017-07-11', 78.0)\n",
      "('2017-07-12', 81.0)\n",
      "('2017-07-13', 79.0)\n",
      "('2017-07-14', 81.0)\n",
      "('2017-07-15', 80.0)\n",
      "('2017-07-16', 78.0)\n",
      "('2017-07-17', 80.0)\n",
      "('2017-07-18', 80.0)\n",
      "('2017-07-20', 80.0)\n",
      "('2017-07-21', 80.0)\n",
      "('2017-07-22', 81.0)\n",
      "('2017-07-23', 81.0)\n",
      "('2017-07-24', 78.0)\n",
      "('2017-07-25', 80.0)\n",
      "('2017-07-26', 82.0)\n",
      "('2017-07-27', 79.0)\n",
      "('2017-07-28', 81.0)\n",
      "('2017-07-29', 81.0)\n",
      "('2017-07-30', 81.0)\n",
      "('2017-07-31', 80.0)\n",
      "('2017-08-01', 77.0)\n",
      "('2017-08-02', 73.0)\n",
      "('2017-08-03', 79.0)\n",
      "('2017-08-04', 80.0)\n",
      "('2017-08-05', 81.0)\n",
      "('2017-08-06', 80.0)\n",
      "('2017-08-07', 80.0)\n",
      "('2017-08-08', 80.0)\n",
      "('2017-08-09', 80.0)\n",
      "('2017-08-10', 81.0)\n",
      "('2017-08-11', 78.0)\n",
      "('2017-08-12', 80.0)\n",
      "('2017-08-13', 81.0)\n",
      "('2017-08-14', 79.0)\n",
      "('2017-08-15', 78.0)\n",
      "('2017-08-18', 80.0)\n",
      "('2017-08-19', 79.0)\n",
      "('2017-08-20', 81.0)\n",
      "('2017-08-21', 81.0)\n",
      "('2017-08-22', 82.0)\n",
      "('2017-08-23', 81.0)\n"
     ]
    }
   ],
   "source": [
    "# Choose the station with the highest number of temperature observations.\n",
    "temp_obs=session.query(measurement.date, measurement.tobs).\\\n",
    "filter(measurement.station==low_high_avg_temp[0]).\\\n",
    "filter(measurement.date>=query_date).order_by(measurement.date).all()\n",
    "for x in temp_obs:\n",
    "    print(x)\n",
    "# Query the last 12 months of temperature observation data for this station and plot the results as a histogram\n",
    "df_station=pd.DataFrame(temp_obs, columns=['date','temp'])\n"
   ]
  },
  {
   "cell_type": "code",
   "execution_count": 222,
   "metadata": {},
   "outputs": [
    {
     "data": {
      "image/png": "[encoded data removed]",
      "text/plain": [
       "<Figure size 432x288 with 1 Axes>"
      ]
     },
     "metadata": {},
     "output_type": "display_data"
    }
   ],
   "source": [
    "df_station.plot.hist(bins=12)\n",
    "plt.show()"
   ]
  },
  {
   "cell_type": "markdown",
   "metadata": {},
   "source": [
    "## Bonus Challenge Assignment"
   ]
  },
  {
   "cell_type": "code",
   "execution_count": null,
   "metadata": {},
   "outputs": [],
   "source": [
    "# This function called `calc_temps` will accept start date and end date in the format '%Y-%m-%d' \n",
    "# and return the minimum, average, and maximum temperatures for that range of dates\n",
    "def calc_temps(start_date, end_date):\n",
    "    \"\"\"TMIN, TAVG, and TMAX for a list of dates.\n",
    "    \n",
    "    Args:\n",
    "        start_date (string): A date string in the format %Y-%m-%d\n",
    "        end_date (string): A date string in the format %Y-%m-%d\n",
    "        \n",
    "    Returns:\n",
    "        TMIN, TAVE, and TMAX\n",
    "    \"\"\"\n",
    "    \n",
    "    return session.query(func.min(Measurement.tobs), func.avg(Measurement.tobs), func.max(Measurement.tobs)).\\\n",
    "        filter(Measurement.date >= start_date).filter(Measurement.date <= end_date).all()\n",
    "\n",
    "# function usage example\n",
    "print(calc_temps('2012-02-28', '2012-03-05'))"
   ]
  },
  {
   "cell_type": "code",
   "execution_count": null,
   "metadata": {},
   "outputs": [],
   "source": [
    "# Use your previous function `calc_temps` to calculate the tmin, tavg, and tmax \n",
    "# for your trip using the previous year's data for those same dates.\n"
   ]
  },
  {
   "cell_type": "code",
   "execution_count": null,
   "metadata": {},
   "outputs": [],
   "source": [
    "# Plot the results from your previous query as a bar chart. \n",
    "# Use \"Trip Avg Temp\" as your Title\n",
    "# Use the average temperature for the y value\n",
    "# Use the peak-to-peak (tmax-tmin) value as the y error bar (yerr)\n"
   ]
  },
  {
   "cell_type": "code",
   "execution_count": null,
   "metadata": {},
   "outputs": [],
   "source": [
    "# Calculate the total amount of rainfall per weather station for your trip dates using the previous year's matching dates.\n",
    "# Sort this in descending order by precipitation amount and list the station, name, latitude, longitude, and elevation\n",
    "\n"
   ]
  },
  {
   "cell_type": "code",
   "execution_count": null,
   "metadata": {},
   "outputs": [],
   "source": [
    "# Create a query that will calculate the daily normals \n",
    "# (i.e. the averages for tmin, tmax, and tavg for all historic data matching a specific month and day)\n",
    "\n",
    "def daily_normals(date):\n",
    "    \"\"\"Daily Normals.\n",
    "    \n",
    "    Args:\n",
    "        date (str): A date string in the format '%m-%d'\n",
    "        \n",
    "    Returns:\n",
    "        A list of tuples containing the daily normals, tmin, tavg, and tmax\n",
    "    \n",
    "    \"\"\"\n",
    "    \n",
    "    sel = [func.min(Measurement.tobs), func.avg(Measurement.tobs), func.max(Measurement.tobs)]\n",
    "    return session.query(*sel).filter(func.strftime(\"%m-%d\", Measurement.date) == date).all()\n",
    "    \n",
    "daily_normals(\"01-01\")"
   ]
  },
  {
   "cell_type": "code",
   "execution_count": null,
   "metadata": {},
   "outputs": [],
   "source": [
    "# calculate the daily normals for your trip\n",
    "# push each tuple of calculations into a list called `normals`\n",
    "\n",
    "# Set the start and end date of the trip\n",
    "\n",
    "# Use the start and end date to create a range of dates\n",
    "\n",
    "# Stip off the year and save a list of %m-%d strings\n",
    "\n",
    "# Loop through the list of %m-%d strings and calculate the normals for each date\n"
   ]
  },
  {
   "cell_type": "code",
   "execution_count": null,
   "metadata": {},
   "outputs": [],
   "source": [
    "# Load the previous query results into a Pandas DataFrame and add the `trip_dates` range as the `date` index\n"
   ]
  },
  {
   "cell_type": "code",
   "execution_count": null,
   "metadata": {},
   "outputs": [],
   "source": [
    "# Plot the daily normals as an area plot with `stacked=False`\n"
   ]
  }
 ],
 "metadata": {
  "kernel_info": {
   "name": "python3"
  },
  "kernelspec": {
   "display_name": "Python 3",
   "language": "python",
   "name": "python3"
  },
  "language_info": {
   "codemirror_mode": {
    "name": "ipython",
    "version": 3
   },
   "file_extension": ".py",
   "mimetype": "text/x-python",
   "name": "python",
   "nbconvert_exporter": "python",
   "pygments_lexer": "ipython3",
   "version": "3.8.3"
  },
  "nteract": {
   "version": "0.12.3"
  },
  "varInspector": {
   "cols": {
    "lenName": 16,
    "lenType": 16,
    "lenVar": 40
   },
   "kernels_config": {
    "python": {
     "delete_cmd_postfix": "",
     "delete_cmd_prefix": "del ",
     "library": "var_list.py",
     "varRefreshCmd": "print(var_dic_list())"
    },
    "r": {
     "delete_cmd_postfix": ") ",
     "delete_cmd_prefix": "rm(",
     "library": "var_list.r",
     "varRefreshCmd": "cat(var_dic_list()) "
    }
   },
   "types_to_exclude": [
    "module",
    "function",
    "builtin_function_or_method",
    "instance",
    "_Feature"
   ],
   "window_display": false
  }
 },
 "nbformat": 4,
 "nbformat_minor": 2
}
